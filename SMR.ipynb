{
 "cells": [
  {
   "cell_type": "code",
   "execution_count": 2,
   "id": "4cf70b85",
   "metadata": {},
   "outputs": [],
   "source": [
    "library(Seurat)\n",
    "library(ggplot2)\n",
    "library(harmony)\n",
    "library(ggsci)\n",
    "#library(DoubletFinder)\n",
    "library(dplyr)\n",
    "library(patchwork)#调整排版设置\n",
    "library(tidyverse)\n",
    "library(ggpubr)\n",
    "library(reshape2)\n",
    "library(ggpubr)\n",
    "#library(progeny)\n",
    "library(gplots)\n",
    "library(SingleR)\n",
    "library(scRNAtoolVis)\n",
    "library(hdf5r)\n",
    "library(COSG)\n",
    "library(RColorBrewer) \n",
    "library(colorspace)\n",
    "library(viridis)\n",
    "library(scales)\n",
    "library(data.table)\n",
    "library(\"UpSetR\")\n",
    "library(grid)\n",
    "library(vcfR)\n",
    "library(plyr)\n",
    "library(PupillometryR)\n",
    "library(ComplexHeatmap)\n",
    "library(\"BuenColors\")\n",
    "library(ggsignif)\n",
    "library(RImagePalette)\n",
    "library(VennDiagram)\n",
    "library(pheatmap)\n",
    "library(ggrepel)"
   ]
  },
  {
   "cell_type": "markdown",
   "id": "cbd057c3",
   "metadata": {},
   "source": [
    "# B"
   ]
  },
  {
   "cell_type": "code",
   "execution_count": 8,
   "id": "c9a7fbd2",
   "metadata": {},
   "outputs": [
    {
     "data": {
      "text/html": [
       "<style>\n",
       ".list-inline {list-style: none; margin:0; padding: 0}\n",
       ".list-inline>li {display: inline-block}\n",
       ".list-inline>li:not(:last-child)::after {content: \"\\00b7\"; padding: 0 .5ex}\n",
       "</style>\n",
       "<ol class=list-inline><li>'B_smr1_result.smr'</li><li>'B_smr10_result.smr'</li><li>'B_smr11_result.smr'</li><li>'B_smr12_result.smr'</li><li>'B_smr14_result.smr'</li><li>'B_smr15_result.smr'</li><li>'B_smr16_result.smr'</li><li>'B_smr17_result.smr'</li><li>'B_smr18_result.smr'</li><li>'B_smr19_result.smr'</li><li>'B_smr2_result.smr'</li><li>'B_smr20_result.smr'</li><li>'B_smr21_result.smr'</li><li>'B_smr22_result.smr'</li><li>'B_smr3_result.smr'</li><li>'B_smr4_result.smr'</li><li>'B_smr5_result.smr'</li><li>'B_smr6_result.smr'</li><li>'B_smr7_result.smr'</li><li>'B_smr8_result.smr'</li><li>'B_smr9_result.smr'</li></ol>\n"
      ],
      "text/latex": [
       "\\begin{enumerate*}\n",
       "\\item 'B\\_smr1\\_result.smr'\n",
       "\\item 'B\\_smr10\\_result.smr'\n",
       "\\item 'B\\_smr11\\_result.smr'\n",
       "\\item 'B\\_smr12\\_result.smr'\n",
       "\\item 'B\\_smr14\\_result.smr'\n",
       "\\item 'B\\_smr15\\_result.smr'\n",
       "\\item 'B\\_smr16\\_result.smr'\n",
       "\\item 'B\\_smr17\\_result.smr'\n",
       "\\item 'B\\_smr18\\_result.smr'\n",
       "\\item 'B\\_smr19\\_result.smr'\n",
       "\\item 'B\\_smr2\\_result.smr'\n",
       "\\item 'B\\_smr20\\_result.smr'\n",
       "\\item 'B\\_smr21\\_result.smr'\n",
       "\\item 'B\\_smr22\\_result.smr'\n",
       "\\item 'B\\_smr3\\_result.smr'\n",
       "\\item 'B\\_smr4\\_result.smr'\n",
       "\\item 'B\\_smr5\\_result.smr'\n",
       "\\item 'B\\_smr6\\_result.smr'\n",
       "\\item 'B\\_smr7\\_result.smr'\n",
       "\\item 'B\\_smr8\\_result.smr'\n",
       "\\item 'B\\_smr9\\_result.smr'\n",
       "\\end{enumerate*}\n"
      ],
      "text/markdown": [
       "1. 'B_smr1_result.smr'\n",
       "2. 'B_smr10_result.smr'\n",
       "3. 'B_smr11_result.smr'\n",
       "4. 'B_smr12_result.smr'\n",
       "5. 'B_smr14_result.smr'\n",
       "6. 'B_smr15_result.smr'\n",
       "7. 'B_smr16_result.smr'\n",
       "8. 'B_smr17_result.smr'\n",
       "9. 'B_smr18_result.smr'\n",
       "10. 'B_smr19_result.smr'\n",
       "11. 'B_smr2_result.smr'\n",
       "12. 'B_smr20_result.smr'\n",
       "13. 'B_smr21_result.smr'\n",
       "14. 'B_smr22_result.smr'\n",
       "15. 'B_smr3_result.smr'\n",
       "16. 'B_smr4_result.smr'\n",
       "17. 'B_smr5_result.smr'\n",
       "18. 'B_smr6_result.smr'\n",
       "19. 'B_smr7_result.smr'\n",
       "20. 'B_smr8_result.smr'\n",
       "21. 'B_smr9_result.smr'\n",
       "\n",
       "\n"
      ],
      "text/plain": [
       " [1] \"B_smr1_result.smr\"  \"B_smr10_result.smr\" \"B_smr11_result.smr\"\n",
       " [4] \"B_smr12_result.smr\" \"B_smr14_result.smr\" \"B_smr15_result.smr\"\n",
       " [7] \"B_smr16_result.smr\" \"B_smr17_result.smr\" \"B_smr18_result.smr\"\n",
       "[10] \"B_smr19_result.smr\" \"B_smr2_result.smr\"  \"B_smr20_result.smr\"\n",
       "[13] \"B_smr21_result.smr\" \"B_smr22_result.smr\" \"B_smr3_result.smr\" \n",
       "[16] \"B_smr4_result.smr\"  \"B_smr5_result.smr\"  \"B_smr6_result.smr\" \n",
       "[19] \"B_smr7_result.smr\"  \"B_smr8_result.smr\"  \"B_smr9_result.smr\" "
      ]
     },
     "metadata": {},
     "output_type": "display_data"
    }
   ],
   "source": [
    "SMR<-list.files(\"/data_alluser/CXY/keti/singlecell_eqtl/eqtl/result/SMR/smr_result/B/\",pattern=\"*.smr\")\n",
    "SMR"
   ]
  },
  {
   "cell_type": "code",
   "execution_count": 12,
   "id": "d664cf6d",
   "metadata": {},
   "outputs": [
    {
     "name": "stdout",
     "output_type": "stream",
     "text": [
      "[1] 1 9 9\n",
      "[1]  2  2 11\n",
      "[1]  3  6 17\n",
      "[1]  4  5 22\n",
      "[1]  5  2 24\n",
      "[1]  6  3 27\n",
      "[1]  7  3 30\n",
      "[1]  8  3 33\n",
      "[1]  9  2 35\n",
      "[1] 10  5 40\n",
      "[1] 11  4 44\n",
      "[1] 12  2 46\n",
      "[1] 13  3 49\n",
      "[1] 14  2 51\n",
      "[1] 15  2 53\n",
      "[1] 16  2 55\n",
      "[1] 17  4 59\n",
      "[1] 18  2 61\n",
      "[1] 19  3 64\n",
      "[1] 20  2 66\n",
      "[1] 21  1 67\n"
     ]
    }
   ],
   "source": [
    "setwd(\"/data_alluser/CXY/keti/singlecell_eqtl/eqtl/result/SMR/smr_result/B\")\n",
    "merge<-list()\n",
    "mer<-list()\n",
    "for(i in 1:length(SMR)){\n",
    "\n",
    "  smr<-read.csv(file=SMR[i],header=TRUE,sep=\"\\t\")\n",
    "  me<-rbind(merge,smr)\n",
    "  mer<-rbind(mer,me)\n",
    "  print(c(i,dim(smr)[1],dim(mer)[1]))\n",
    " }\n"
   ]
  },
  {
   "cell_type": "code",
   "execution_count": 13,
   "id": "f3e33c06",
   "metadata": {},
   "outputs": [],
   "source": [
    "gwas_smr_Bonferroni <- p.adjust(mer$p_SMR,method = \"bonferroni\")\n",
    "jiaozheng<-cbind(mer,gwas_smr_Bonferroni)"
   ]
  },
  {
   "cell_type": "code",
   "execution_count": 15,
   "id": "f97a945e",
   "metadata": {},
   "outputs": [
    {
     "name": "stderr",
     "output_type": "stream",
     "text": [
      "Warning message in cbind(parts$left, ellip_h, parts$right, deparse.level = 0L):\n",
      "“number of rows of result is not a multiple of vector length (arg 2)”\n",
      "Warning message in cbind(parts$left, ellip_h, parts$right, deparse.level = 0L):\n",
      "“number of rows of result is not a multiple of vector length (arg 2)”\n",
      "Warning message in cbind(parts$left, ellip_h, parts$right, deparse.level = 0L):\n",
      "“number of rows of result is not a multiple of vector length (arg 2)”\n",
      "Warning message in cbind(parts$left, ellip_h, parts$right, deparse.level = 0L):\n",
      "“number of rows of result is not a multiple of vector length (arg 2)”\n"
     ]
    },
    {
     "data": {
      "text/html": [
       "<table class=\"dataframe\">\n",
       "<caption>A data.frame: 0 × 22</caption>\n",
       "<thead>\n",
       "\t<tr><th scope=col>probeID</th><th scope=col>ProbeChr</th><th scope=col>Gene</th><th scope=col>Probe_bp</th><th scope=col>topSNP</th><th scope=col>topSNP_chr</th><th scope=col>topSNP_bp</th><th scope=col>A1</th><th scope=col>A2</th><th scope=col>Freq</th><th scope=col>⋯</th><th scope=col>p_GWAS</th><th scope=col>b_eQTL</th><th scope=col>se_eQTL</th><th scope=col>p_eQTL</th><th scope=col>b_SMR</th><th scope=col>se_SMR</th><th scope=col>p_SMR</th><th scope=col>p_HEIDI</th><th scope=col>nsnp_HEIDI</th><th scope=col>gwas_smr_Bonferroni</th></tr>\n",
       "\t<tr><th scope=col>&lt;chr&gt;</th><th scope=col>&lt;int&gt;</th><th scope=col>&lt;chr&gt;</th><th scope=col>&lt;int&gt;</th><th scope=col>&lt;chr&gt;</th><th scope=col>&lt;int&gt;</th><th scope=col>&lt;int&gt;</th><th scope=col>&lt;chr&gt;</th><th scope=col>&lt;chr&gt;</th><th scope=col>&lt;dbl&gt;</th><th scope=col>⋯</th><th scope=col>&lt;dbl&gt;</th><th scope=col>&lt;dbl&gt;</th><th scope=col>&lt;dbl&gt;</th><th scope=col>&lt;dbl&gt;</th><th scope=col>&lt;dbl&gt;</th><th scope=col>&lt;dbl&gt;</th><th scope=col>&lt;dbl&gt;</th><th scope=col>&lt;dbl&gt;</th><th scope=col>&lt;int&gt;</th><th scope=col>&lt;dbl&gt;</th></tr>\n",
       "</thead>\n",
       "<tbody>\n",
       "</tbody>\n",
       "</table>\n"
      ],
      "text/latex": [
       "A data.frame: 0 × 22\n",
       "\\begin{tabular}{lllllllllllllllllllll}\n",
       " probeID & ProbeChr & Gene & Probe\\_bp & topSNP & topSNP\\_chr & topSNP\\_bp & A1 & A2 & Freq & ⋯ & p\\_GWAS & b\\_eQTL & se\\_eQTL & p\\_eQTL & b\\_SMR & se\\_SMR & p\\_SMR & p\\_HEIDI & nsnp\\_HEIDI & gwas\\_smr\\_Bonferroni\\\\\n",
       " <chr> & <int> & <chr> & <int> & <chr> & <int> & <int> & <chr> & <chr> & <dbl> & ⋯ & <dbl> & <dbl> & <dbl> & <dbl> & <dbl> & <dbl> & <dbl> & <dbl> & <int> & <dbl>\\\\\n",
       "\\hline\n",
       "\\end{tabular}\n"
      ],
      "text/markdown": [
       "\n",
       "A data.frame: 0 × 22\n",
       "\n",
       "| probeID &lt;chr&gt; | ProbeChr &lt;int&gt; | Gene &lt;chr&gt; | Probe_bp &lt;int&gt; | topSNP &lt;chr&gt; | topSNP_chr &lt;int&gt; | topSNP_bp &lt;int&gt; | A1 &lt;chr&gt; | A2 &lt;chr&gt; | Freq &lt;dbl&gt; | ⋯ ⋯ | p_GWAS &lt;dbl&gt; | b_eQTL &lt;dbl&gt; | se_eQTL &lt;dbl&gt; | p_eQTL &lt;dbl&gt; | b_SMR &lt;dbl&gt; | se_SMR &lt;dbl&gt; | p_SMR &lt;dbl&gt; | p_HEIDI &lt;dbl&gt; | nsnp_HEIDI &lt;int&gt; | gwas_smr_Bonferroni &lt;dbl&gt; |\n",
       "|---|---|---|---|---|---|---|---|---|---|---|---|---|---|---|---|---|---|---|---|---|\n",
       "\n"
      ],
      "text/plain": [
       "     probeID ProbeChr Gene Probe_bp topSNP topSNP_chr topSNP_bp A1 A2 Freq ⋯\n",
       "     p_GWAS b_eQTL se_eQTL p_eQTL b_SMR se_SMR p_SMR p_HEIDI nsnp_HEIDI\n",
       "     gwas_smr_Bonferroni"
      ]
     },
     "metadata": {},
     "output_type": "display_data"
    },
    {
     "data": {
      "text/html": [
       "<style>\n",
       ".list-inline {list-style: none; margin:0; padding: 0}\n",
       ".list-inline>li {display: inline-block}\n",
       ".list-inline>li:not(:last-child)::after {content: \"\\00b7\"; padding: 0 .5ex}\n",
       "</style>\n",
       "<ol class=list-inline><li>0</li><li>22</li></ol>\n"
      ],
      "text/latex": [
       "\\begin{enumerate*}\n",
       "\\item 0\n",
       "\\item 22\n",
       "\\end{enumerate*}\n"
      ],
      "text/markdown": [
       "1. 0\n",
       "2. 22\n",
       "\n",
       "\n"
      ],
      "text/plain": [
       "[1]  0 22"
      ]
     },
     "metadata": {},
     "output_type": "display_data"
    }
   ],
   "source": [
    "a<-jiaozheng[which(jiaozheng$gwas_smr_Bonferroni<0.05),]\n",
    "a1<-a[which(a$p_HEIDI>0.05),]\n",
    "a\n",
    "dim(a1)"
   ]
  },
  {
   "cell_type": "markdown",
   "id": "95a36a1a",
   "metadata": {},
   "source": [
    "# CD4"
   ]
  },
  {
   "cell_type": "code",
   "execution_count": 16,
   "id": "325fc363",
   "metadata": {
    "scrolled": true
   },
   "outputs": [
    {
     "data": {
      "text/html": [
       "<style>\n",
       ".list-inline {list-style: none; margin:0; padding: 0}\n",
       ".list-inline>li {display: inline-block}\n",
       ".list-inline>li:not(:last-child)::after {content: \"\\00b7\"; padding: 0 .5ex}\n",
       "</style>\n",
       "<ol class=list-inline><li>'CD4_T_smr1_result.smr'</li><li>'CD4_T_smr10_result.smr'</li><li>'CD4_T_smr11_result.smr'</li><li>'CD4_T_smr12_result.smr'</li><li>'CD4_T_smr13_result.smr'</li><li>'CD4_T_smr14_result.smr'</li><li>'CD4_T_smr15_result.smr'</li><li>'CD4_T_smr16_result.smr'</li><li>'CD4_T_smr17_result.smr'</li><li>'CD4_T_smr18_result.smr'</li><li>'CD4_T_smr19_result.smr'</li><li>'CD4_T_smr2_result.smr'</li><li>'CD4_T_smr20_result.smr'</li><li>'CD4_T_smr21_result.smr'</li><li>'CD4_T_smr22_result.smr'</li><li>'CD4_T_smr3_result.smr'</li><li>'CD4_T_smr4_result.smr'</li><li>'CD4_T_smr5_result.smr'</li><li>'CD4_T_smr6_result.smr'</li><li>'CD4_T_smr7_result.smr'</li><li>'CD4_T_smr8_result.smr'</li><li>'CD4_T_smr9_result.smr'</li></ol>\n"
      ],
      "text/latex": [
       "\\begin{enumerate*}\n",
       "\\item 'CD4\\_T\\_smr1\\_result.smr'\n",
       "\\item 'CD4\\_T\\_smr10\\_result.smr'\n",
       "\\item 'CD4\\_T\\_smr11\\_result.smr'\n",
       "\\item 'CD4\\_T\\_smr12\\_result.smr'\n",
       "\\item 'CD4\\_T\\_smr13\\_result.smr'\n",
       "\\item 'CD4\\_T\\_smr14\\_result.smr'\n",
       "\\item 'CD4\\_T\\_smr15\\_result.smr'\n",
       "\\item 'CD4\\_T\\_smr16\\_result.smr'\n",
       "\\item 'CD4\\_T\\_smr17\\_result.smr'\n",
       "\\item 'CD4\\_T\\_smr18\\_result.smr'\n",
       "\\item 'CD4\\_T\\_smr19\\_result.smr'\n",
       "\\item 'CD4\\_T\\_smr2\\_result.smr'\n",
       "\\item 'CD4\\_T\\_smr20\\_result.smr'\n",
       "\\item 'CD4\\_T\\_smr21\\_result.smr'\n",
       "\\item 'CD4\\_T\\_smr22\\_result.smr'\n",
       "\\item 'CD4\\_T\\_smr3\\_result.smr'\n",
       "\\item 'CD4\\_T\\_smr4\\_result.smr'\n",
       "\\item 'CD4\\_T\\_smr5\\_result.smr'\n",
       "\\item 'CD4\\_T\\_smr6\\_result.smr'\n",
       "\\item 'CD4\\_T\\_smr7\\_result.smr'\n",
       "\\item 'CD4\\_T\\_smr8\\_result.smr'\n",
       "\\item 'CD4\\_T\\_smr9\\_result.smr'\n",
       "\\end{enumerate*}\n"
      ],
      "text/markdown": [
       "1. 'CD4_T_smr1_result.smr'\n",
       "2. 'CD4_T_smr10_result.smr'\n",
       "3. 'CD4_T_smr11_result.smr'\n",
       "4. 'CD4_T_smr12_result.smr'\n",
       "5. 'CD4_T_smr13_result.smr'\n",
       "6. 'CD4_T_smr14_result.smr'\n",
       "7. 'CD4_T_smr15_result.smr'\n",
       "8. 'CD4_T_smr16_result.smr'\n",
       "9. 'CD4_T_smr17_result.smr'\n",
       "10. 'CD4_T_smr18_result.smr'\n",
       "11. 'CD4_T_smr19_result.smr'\n",
       "12. 'CD4_T_smr2_result.smr'\n",
       "13. 'CD4_T_smr20_result.smr'\n",
       "14. 'CD4_T_smr21_result.smr'\n",
       "15. 'CD4_T_smr22_result.smr'\n",
       "16. 'CD4_T_smr3_result.smr'\n",
       "17. 'CD4_T_smr4_result.smr'\n",
       "18. 'CD4_T_smr5_result.smr'\n",
       "19. 'CD4_T_smr6_result.smr'\n",
       "20. 'CD4_T_smr7_result.smr'\n",
       "21. 'CD4_T_smr8_result.smr'\n",
       "22. 'CD4_T_smr9_result.smr'\n",
       "\n",
       "\n"
      ],
      "text/plain": [
       " [1] \"CD4_T_smr1_result.smr\"  \"CD4_T_smr10_result.smr\" \"CD4_T_smr11_result.smr\"\n",
       " [4] \"CD4_T_smr12_result.smr\" \"CD4_T_smr13_result.smr\" \"CD4_T_smr14_result.smr\"\n",
       " [7] \"CD4_T_smr15_result.smr\" \"CD4_T_smr16_result.smr\" \"CD4_T_smr17_result.smr\"\n",
       "[10] \"CD4_T_smr18_result.smr\" \"CD4_T_smr19_result.smr\" \"CD4_T_smr2_result.smr\" \n",
       "[13] \"CD4_T_smr20_result.smr\" \"CD4_T_smr21_result.smr\" \"CD4_T_smr22_result.smr\"\n",
       "[16] \"CD4_T_smr3_result.smr\"  \"CD4_T_smr4_result.smr\"  \"CD4_T_smr5_result.smr\" \n",
       "[19] \"CD4_T_smr6_result.smr\"  \"CD4_T_smr7_result.smr\"  \"CD4_T_smr8_result.smr\" \n",
       "[22] \"CD4_T_smr9_result.smr\" "
      ]
     },
     "metadata": {},
     "output_type": "display_data"
    },
    {
     "name": "stdout",
     "output_type": "stream",
     "text": [
      "[1]  1 16 16\n",
      "[1]  2 10 26\n",
      "[1]  3  9 35\n",
      "[1]  4  9 44\n",
      "[1]  5  3 47\n",
      "[1]  6  5 52\n",
      "[1]  7  5 57\n",
      "[1]  8  3 60\n",
      "[1]  9  5 65\n",
      "[1] 10  2 67\n",
      "[1] 11  9 76\n",
      "[1] 12  6 82\n",
      "[1] 13  7 89\n",
      "[1] 14  6 95\n",
      "[1]  15   5 100\n",
      "[1]  16   7 107\n",
      "[1]  17   9 116\n",
      "[1]  18   6 122\n",
      "[1]  19   6 128\n",
      "[1]  20   8 136\n",
      "[1]  21   2 138\n",
      "[1]  22   5 143\n"
     ]
    }
   ],
   "source": [
    "SMR<-list.files(\"/data_alluser/CXY/keti/singlecell_eqtl/eqtl/result/SMR/smr_result/CD4\",pattern=\"*.smr\")\n",
    "SMR\n",
    "setwd(\"/data_alluser/CXY/keti/singlecell_eqtl/eqtl/result/SMR/smr_result/CD4\")\n",
    "merge<-list()\n",
    "mer<-list()\n",
    "for(i in 1:length(SMR)){\n",
    "\n",
    "  smr<-read.csv(file=SMR[i],header=TRUE,sep=\"\\t\")\n",
    "  me<-rbind(merge,smr)\n",
    "  mer<-rbind(mer,me)\n",
    "  print(c(i,dim(smr)[1],dim(mer)[1]))\n",
    " }\n",
    "gwas_smr_Bonferroni <- p.adjust(mer$p_SMR,method = \"bonferroni\")\n",
    "jiaozheng<-cbind(mer,gwas_smr_Bonferroni)"
   ]
  },
  {
   "cell_type": "code",
   "execution_count": 18,
   "id": "1e7ba98a",
   "metadata": {},
   "outputs": [
    {
     "name": "stderr",
     "output_type": "stream",
     "text": [
      "Warning message in cbind(parts$left, ellip_h, parts$right, deparse.level = 0L):\n",
      "“number of rows of result is not a multiple of vector length (arg 2)”\n",
      "Warning message in cbind(parts$left, ellip_h, parts$right, deparse.level = 0L):\n",
      "“number of rows of result is not a multiple of vector length (arg 2)”\n",
      "Warning message in cbind(parts$left, ellip_h, parts$right, deparse.level = 0L):\n",
      "“number of rows of result is not a multiple of vector length (arg 2)”\n",
      "Warning message in cbind(parts$left, ellip_h, parts$right, deparse.level = 0L):\n",
      "“number of rows of result is not a multiple of vector length (arg 2)”\n"
     ]
    },
    {
     "data": {
      "text/html": [
       "<table class=\"dataframe\">\n",
       "<caption>A data.frame: 0 × 22</caption>\n",
       "<thead>\n",
       "\t<tr><th scope=col>probeID</th><th scope=col>ProbeChr</th><th scope=col>Gene</th><th scope=col>Probe_bp</th><th scope=col>topSNP</th><th scope=col>topSNP_chr</th><th scope=col>topSNP_bp</th><th scope=col>A1</th><th scope=col>A2</th><th scope=col>Freq</th><th scope=col>⋯</th><th scope=col>p_GWAS</th><th scope=col>b_eQTL</th><th scope=col>se_eQTL</th><th scope=col>p_eQTL</th><th scope=col>b_SMR</th><th scope=col>se_SMR</th><th scope=col>p_SMR</th><th scope=col>p_HEIDI</th><th scope=col>nsnp_HEIDI</th><th scope=col>gwas_smr_Bonferroni</th></tr>\n",
       "\t<tr><th scope=col>&lt;chr&gt;</th><th scope=col>&lt;int&gt;</th><th scope=col>&lt;chr&gt;</th><th scope=col>&lt;int&gt;</th><th scope=col>&lt;chr&gt;</th><th scope=col>&lt;int&gt;</th><th scope=col>&lt;int&gt;</th><th scope=col>&lt;chr&gt;</th><th scope=col>&lt;chr&gt;</th><th scope=col>&lt;dbl&gt;</th><th scope=col>⋯</th><th scope=col>&lt;dbl&gt;</th><th scope=col>&lt;dbl&gt;</th><th scope=col>&lt;dbl&gt;</th><th scope=col>&lt;dbl&gt;</th><th scope=col>&lt;dbl&gt;</th><th scope=col>&lt;dbl&gt;</th><th scope=col>&lt;dbl&gt;</th><th scope=col>&lt;dbl&gt;</th><th scope=col>&lt;int&gt;</th><th scope=col>&lt;dbl&gt;</th></tr>\n",
       "</thead>\n",
       "<tbody>\n",
       "</tbody>\n",
       "</table>\n"
      ],
      "text/latex": [
       "A data.frame: 0 × 22\n",
       "\\begin{tabular}{lllllllllllllllllllll}\n",
       " probeID & ProbeChr & Gene & Probe\\_bp & topSNP & topSNP\\_chr & topSNP\\_bp & A1 & A2 & Freq & ⋯ & p\\_GWAS & b\\_eQTL & se\\_eQTL & p\\_eQTL & b\\_SMR & se\\_SMR & p\\_SMR & p\\_HEIDI & nsnp\\_HEIDI & gwas\\_smr\\_Bonferroni\\\\\n",
       " <chr> & <int> & <chr> & <int> & <chr> & <int> & <int> & <chr> & <chr> & <dbl> & ⋯ & <dbl> & <dbl> & <dbl> & <dbl> & <dbl> & <dbl> & <dbl> & <dbl> & <int> & <dbl>\\\\\n",
       "\\hline\n",
       "\\end{tabular}\n"
      ],
      "text/markdown": [
       "\n",
       "A data.frame: 0 × 22\n",
       "\n",
       "| probeID &lt;chr&gt; | ProbeChr &lt;int&gt; | Gene &lt;chr&gt; | Probe_bp &lt;int&gt; | topSNP &lt;chr&gt; | topSNP_chr &lt;int&gt; | topSNP_bp &lt;int&gt; | A1 &lt;chr&gt; | A2 &lt;chr&gt; | Freq &lt;dbl&gt; | ⋯ ⋯ | p_GWAS &lt;dbl&gt; | b_eQTL &lt;dbl&gt; | se_eQTL &lt;dbl&gt; | p_eQTL &lt;dbl&gt; | b_SMR &lt;dbl&gt; | se_SMR &lt;dbl&gt; | p_SMR &lt;dbl&gt; | p_HEIDI &lt;dbl&gt; | nsnp_HEIDI &lt;int&gt; | gwas_smr_Bonferroni &lt;dbl&gt; |\n",
       "|---|---|---|---|---|---|---|---|---|---|---|---|---|---|---|---|---|---|---|---|---|\n",
       "\n"
      ],
      "text/plain": [
       "     probeID ProbeChr Gene Probe_bp topSNP topSNP_chr topSNP_bp A1 A2 Freq ⋯\n",
       "     p_GWAS b_eQTL se_eQTL p_eQTL b_SMR se_SMR p_SMR p_HEIDI nsnp_HEIDI\n",
       "     gwas_smr_Bonferroni"
      ]
     },
     "metadata": {},
     "output_type": "display_data"
    },
    {
     "data": {
      "text/html": [
       "<style>\n",
       ".list-inline {list-style: none; margin:0; padding: 0}\n",
       ".list-inline>li {display: inline-block}\n",
       ".list-inline>li:not(:last-child)::after {content: \"\\00b7\"; padding: 0 .5ex}\n",
       "</style>\n",
       "<ol class=list-inline><li>0</li><li>22</li></ol>\n"
      ],
      "text/latex": [
       "\\begin{enumerate*}\n",
       "\\item 0\n",
       "\\item 22\n",
       "\\end{enumerate*}\n"
      ],
      "text/markdown": [
       "1. 0\n",
       "2. 22\n",
       "\n",
       "\n"
      ],
      "text/plain": [
       "[1]  0 22"
      ]
     },
     "metadata": {},
     "output_type": "display_data"
    }
   ],
   "source": [
    "a<-jiaozheng[which(jiaozheng$gwas_smr_Bonferroni<0.05),]\n",
    "a1<-a[which(a$p_HEIDI>0.05),]\n",
    "a\n",
    "dim(a)"
   ]
  },
  {
   "cell_type": "markdown",
   "id": "c5973c5f",
   "metadata": {},
   "source": [
    "# CD8"
   ]
  },
  {
   "cell_type": "code",
   "execution_count": 20,
   "id": "405c5514",
   "metadata": {
    "scrolled": true
   },
   "outputs": [
    {
     "data": {
      "text/html": [
       "<style>\n",
       ".list-inline {list-style: none; margin:0; padding: 0}\n",
       ".list-inline>li {display: inline-block}\n",
       ".list-inline>li:not(:last-child)::after {content: \"\\00b7\"; padding: 0 .5ex}\n",
       "</style>\n",
       "<ol class=list-inline><li>'CD8_T_smr1_result.smr'</li><li>'CD8_T_smr10_result.smr'</li><li>'CD8_T_smr11_result.smr'</li><li>'CD8_T_smr12_result.smr'</li><li>'CD8_T_smr13_result.smr'</li><li>'CD8_T_smr14_result.smr'</li><li>'CD8_T_smr15_result.smr'</li><li>'CD8_T_smr16_result.smr'</li><li>'CD8_T_smr17_result.smr'</li><li>'CD8_T_smr18_result.smr'</li><li>'CD8_T_smr19_result.smr'</li><li>'CD8_T_smr2_result.smr'</li><li>'CD8_T_smr20_result.smr'</li><li>'CD8_T_smr21_result.smr'</li><li>'CD8_T_smr22_result.smr'</li><li>'CD8_T_smr3_result.smr'</li><li>'CD8_T_smr4_result.smr'</li><li>'CD8_T_smr5_result.smr'</li><li>'CD8_T_smr6_result.smr'</li><li>'CD8_T_smr7_result.smr'</li><li>'CD8_T_smr8_result.smr'</li><li>'CD8_T_smr9_result.smr'</li></ol>\n"
      ],
      "text/latex": [
       "\\begin{enumerate*}\n",
       "\\item 'CD8\\_T\\_smr1\\_result.smr'\n",
       "\\item 'CD8\\_T\\_smr10\\_result.smr'\n",
       "\\item 'CD8\\_T\\_smr11\\_result.smr'\n",
       "\\item 'CD8\\_T\\_smr12\\_result.smr'\n",
       "\\item 'CD8\\_T\\_smr13\\_result.smr'\n",
       "\\item 'CD8\\_T\\_smr14\\_result.smr'\n",
       "\\item 'CD8\\_T\\_smr15\\_result.smr'\n",
       "\\item 'CD8\\_T\\_smr16\\_result.smr'\n",
       "\\item 'CD8\\_T\\_smr17\\_result.smr'\n",
       "\\item 'CD8\\_T\\_smr18\\_result.smr'\n",
       "\\item 'CD8\\_T\\_smr19\\_result.smr'\n",
       "\\item 'CD8\\_T\\_smr2\\_result.smr'\n",
       "\\item 'CD8\\_T\\_smr20\\_result.smr'\n",
       "\\item 'CD8\\_T\\_smr21\\_result.smr'\n",
       "\\item 'CD8\\_T\\_smr22\\_result.smr'\n",
       "\\item 'CD8\\_T\\_smr3\\_result.smr'\n",
       "\\item 'CD8\\_T\\_smr4\\_result.smr'\n",
       "\\item 'CD8\\_T\\_smr5\\_result.smr'\n",
       "\\item 'CD8\\_T\\_smr6\\_result.smr'\n",
       "\\item 'CD8\\_T\\_smr7\\_result.smr'\n",
       "\\item 'CD8\\_T\\_smr8\\_result.smr'\n",
       "\\item 'CD8\\_T\\_smr9\\_result.smr'\n",
       "\\end{enumerate*}\n"
      ],
      "text/markdown": [
       "1. 'CD8_T_smr1_result.smr'\n",
       "2. 'CD8_T_smr10_result.smr'\n",
       "3. 'CD8_T_smr11_result.smr'\n",
       "4. 'CD8_T_smr12_result.smr'\n",
       "5. 'CD8_T_smr13_result.smr'\n",
       "6. 'CD8_T_smr14_result.smr'\n",
       "7. 'CD8_T_smr15_result.smr'\n",
       "8. 'CD8_T_smr16_result.smr'\n",
       "9. 'CD8_T_smr17_result.smr'\n",
       "10. 'CD8_T_smr18_result.smr'\n",
       "11. 'CD8_T_smr19_result.smr'\n",
       "12. 'CD8_T_smr2_result.smr'\n",
       "13. 'CD8_T_smr20_result.smr'\n",
       "14. 'CD8_T_smr21_result.smr'\n",
       "15. 'CD8_T_smr22_result.smr'\n",
       "16. 'CD8_T_smr3_result.smr'\n",
       "17. 'CD8_T_smr4_result.smr'\n",
       "18. 'CD8_T_smr5_result.smr'\n",
       "19. 'CD8_T_smr6_result.smr'\n",
       "20. 'CD8_T_smr7_result.smr'\n",
       "21. 'CD8_T_smr8_result.smr'\n",
       "22. 'CD8_T_smr9_result.smr'\n",
       "\n",
       "\n"
      ],
      "text/plain": [
       " [1] \"CD8_T_smr1_result.smr\"  \"CD8_T_smr10_result.smr\" \"CD8_T_smr11_result.smr\"\n",
       " [4] \"CD8_T_smr12_result.smr\" \"CD8_T_smr13_result.smr\" \"CD8_T_smr14_result.smr\"\n",
       " [7] \"CD8_T_smr15_result.smr\" \"CD8_T_smr16_result.smr\" \"CD8_T_smr17_result.smr\"\n",
       "[10] \"CD8_T_smr18_result.smr\" \"CD8_T_smr19_result.smr\" \"CD8_T_smr2_result.smr\" \n",
       "[13] \"CD8_T_smr20_result.smr\" \"CD8_T_smr21_result.smr\" \"CD8_T_smr22_result.smr\"\n",
       "[16] \"CD8_T_smr3_result.smr\"  \"CD8_T_smr4_result.smr\"  \"CD8_T_smr5_result.smr\" \n",
       "[19] \"CD8_T_smr6_result.smr\"  \"CD8_T_smr7_result.smr\"  \"CD8_T_smr8_result.smr\" \n",
       "[22] \"CD8_T_smr9_result.smr\" "
      ]
     },
     "metadata": {},
     "output_type": "display_data"
    },
    {
     "name": "stdout",
     "output_type": "stream",
     "text": [
      "[1]  1 16 16\n",
      "[1]  2  3 19\n",
      "[1]  3  9 28\n",
      "[1]  4  9 37\n",
      "[1]  5  1 38\n",
      "[1]  6  5 43\n",
      "[1]  7  1 44\n",
      "[1]  8  6 50\n",
      "[1]  9  6 56\n",
      "[1] 10  1 57\n",
      "[1] 11  7 64\n",
      "[1] 12  3 67\n",
      "[1] 13  4 71\n",
      "[1] 14  8 79\n",
      "[1] 15  4 83\n",
      "[1] 16  4 87\n",
      "[1] 17  3 90\n",
      "[1] 18  7 97\n",
      "[1]  19   5 102\n",
      "[1]  20   6 108\n",
      "[1]  21   2 110\n",
      "[1]  22   4 114\n"
     ]
    }
   ],
   "source": [
    "SMR<-list.files(\"/data_alluser/CXY/keti/singlecell_eqtl/eqtl/result/SMR/smr_result/CD8\",pattern=\"*.smr\")\n",
    "SMR\n",
    "setwd(\"/data_alluser/CXY/keti/singlecell_eqtl/eqtl/result/SMR/smr_result/CD8\")\n",
    "merge<-list()\n",
    "mer<-list()\n",
    "for(i in 1:length(SMR)){\n",
    "\n",
    "  smr<-read.csv(file=SMR[i],header=TRUE,sep=\"\\t\")\n",
    "  me<-rbind(merge,smr)\n",
    "  mer<-rbind(mer,me)\n",
    "  print(c(i,dim(smr)[1],dim(mer)[1]))\n",
    " }\n",
    "gwas_smr_Bonferroni <- p.adjust(mer$p_SMR,method = \"bonferroni\")\n",
    "jiaozheng<-cbind(mer,gwas_smr_Bonferroni)"
   ]
  },
  {
   "cell_type": "code",
   "execution_count": 23,
   "id": "cd4af3fd",
   "metadata": {},
   "outputs": [
    {
     "name": "stderr",
     "output_type": "stream",
     "text": [
      "Warning message in cbind(parts$left, ellip_h, parts$right, deparse.level = 0L):\n",
      "“number of rows of result is not a multiple of vector length (arg 2)”\n",
      "Warning message in cbind(parts$left, ellip_h, parts$right, deparse.level = 0L):\n",
      "“number of rows of result is not a multiple of vector length (arg 2)”\n",
      "Warning message in cbind(parts$left, ellip_h, parts$right, deparse.level = 0L):\n",
      "“number of rows of result is not a multiple of vector length (arg 2)”\n",
      "Warning message in cbind(parts$left, ellip_h, parts$right, deparse.level = 0L):\n",
      "“number of rows of result is not a multiple of vector length (arg 2)”\n"
     ]
    },
    {
     "data": {
      "text/html": [
       "<table class=\"dataframe\">\n",
       "<caption>A data.frame: 0 × 22</caption>\n",
       "<thead>\n",
       "\t<tr><th scope=col>probeID</th><th scope=col>ProbeChr</th><th scope=col>Gene</th><th scope=col>Probe_bp</th><th scope=col>topSNP</th><th scope=col>topSNP_chr</th><th scope=col>topSNP_bp</th><th scope=col>A1</th><th scope=col>A2</th><th scope=col>Freq</th><th scope=col>⋯</th><th scope=col>p_GWAS</th><th scope=col>b_eQTL</th><th scope=col>se_eQTL</th><th scope=col>p_eQTL</th><th scope=col>b_SMR</th><th scope=col>se_SMR</th><th scope=col>p_SMR</th><th scope=col>p_HEIDI</th><th scope=col>nsnp_HEIDI</th><th scope=col>gwas_smr_Bonferroni</th></tr>\n",
       "\t<tr><th scope=col>&lt;chr&gt;</th><th scope=col>&lt;int&gt;</th><th scope=col>&lt;chr&gt;</th><th scope=col>&lt;int&gt;</th><th scope=col>&lt;chr&gt;</th><th scope=col>&lt;int&gt;</th><th scope=col>&lt;int&gt;</th><th scope=col>&lt;chr&gt;</th><th scope=col>&lt;chr&gt;</th><th scope=col>&lt;dbl&gt;</th><th scope=col>⋯</th><th scope=col>&lt;dbl&gt;</th><th scope=col>&lt;dbl&gt;</th><th scope=col>&lt;dbl&gt;</th><th scope=col>&lt;dbl&gt;</th><th scope=col>&lt;dbl&gt;</th><th scope=col>&lt;dbl&gt;</th><th scope=col>&lt;dbl&gt;</th><th scope=col>&lt;dbl&gt;</th><th scope=col>&lt;int&gt;</th><th scope=col>&lt;dbl&gt;</th></tr>\n",
       "</thead>\n",
       "<tbody>\n",
       "</tbody>\n",
       "</table>\n"
      ],
      "text/latex": [
       "A data.frame: 0 × 22\n",
       "\\begin{tabular}{lllllllllllllllllllll}\n",
       " probeID & ProbeChr & Gene & Probe\\_bp & topSNP & topSNP\\_chr & topSNP\\_bp & A1 & A2 & Freq & ⋯ & p\\_GWAS & b\\_eQTL & se\\_eQTL & p\\_eQTL & b\\_SMR & se\\_SMR & p\\_SMR & p\\_HEIDI & nsnp\\_HEIDI & gwas\\_smr\\_Bonferroni\\\\\n",
       " <chr> & <int> & <chr> & <int> & <chr> & <int> & <int> & <chr> & <chr> & <dbl> & ⋯ & <dbl> & <dbl> & <dbl> & <dbl> & <dbl> & <dbl> & <dbl> & <dbl> & <int> & <dbl>\\\\\n",
       "\\hline\n",
       "\\end{tabular}\n"
      ],
      "text/markdown": [
       "\n",
       "A data.frame: 0 × 22\n",
       "\n",
       "| probeID &lt;chr&gt; | ProbeChr &lt;int&gt; | Gene &lt;chr&gt; | Probe_bp &lt;int&gt; | topSNP &lt;chr&gt; | topSNP_chr &lt;int&gt; | topSNP_bp &lt;int&gt; | A1 &lt;chr&gt; | A2 &lt;chr&gt; | Freq &lt;dbl&gt; | ⋯ ⋯ | p_GWAS &lt;dbl&gt; | b_eQTL &lt;dbl&gt; | se_eQTL &lt;dbl&gt; | p_eQTL &lt;dbl&gt; | b_SMR &lt;dbl&gt; | se_SMR &lt;dbl&gt; | p_SMR &lt;dbl&gt; | p_HEIDI &lt;dbl&gt; | nsnp_HEIDI &lt;int&gt; | gwas_smr_Bonferroni &lt;dbl&gt; |\n",
       "|---|---|---|---|---|---|---|---|---|---|---|---|---|---|---|---|---|---|---|---|---|\n",
       "\n"
      ],
      "text/plain": [
       "     probeID ProbeChr Gene Probe_bp topSNP topSNP_chr topSNP_bp A1 A2 Freq ⋯\n",
       "     p_GWAS b_eQTL se_eQTL p_eQTL b_SMR se_SMR p_SMR p_HEIDI nsnp_HEIDI\n",
       "     gwas_smr_Bonferroni"
      ]
     },
     "metadata": {},
     "output_type": "display_data"
    },
    {
     "data": {
      "text/html": [
       "<style>\n",
       ".list-inline {list-style: none; margin:0; padding: 0}\n",
       ".list-inline>li {display: inline-block}\n",
       ".list-inline>li:not(:last-child)::after {content: \"\\00b7\"; padding: 0 .5ex}\n",
       "</style>\n",
       "<ol class=list-inline><li>0</li><li>22</li></ol>\n"
      ],
      "text/latex": [
       "\\begin{enumerate*}\n",
       "\\item 0\n",
       "\\item 22\n",
       "\\end{enumerate*}\n"
      ],
      "text/markdown": [
       "1. 0\n",
       "2. 22\n",
       "\n",
       "\n"
      ],
      "text/plain": [
       "[1]  0 22"
      ]
     },
     "metadata": {},
     "output_type": "display_data"
    }
   ],
   "source": [
    "a<-jiaozheng[which(jiaozheng$gwas_smr_Bonferroni<0.05),]\n",
    "a1<-a[which(a$p_HEIDI>0.05),]\n",
    "a\n",
    "dim(a)"
   ]
  },
  {
   "cell_type": "markdown",
   "id": "1d3b12a2",
   "metadata": {},
   "source": [
    "# cDC"
   ]
  },
  {
   "cell_type": "code",
   "execution_count": 22,
   "id": "e144ff93",
   "metadata": {
    "scrolled": true
   },
   "outputs": [
    {
     "data": {
      "text/html": [
       "<style>\n",
       ".list-inline {list-style: none; margin:0; padding: 0}\n",
       ".list-inline>li {display: inline-block}\n",
       ".list-inline>li:not(:last-child)::after {content: \"\\00b7\"; padding: 0 .5ex}\n",
       "</style>\n",
       "<ol class=list-inline><li>'cDC_smr11_result.smr'</li><li>'cDC_smr12_result.smr'</li><li>'cDC_smr14_result.smr'</li><li>'cDC_smr15_result.smr'</li><li>'cDC_smr16_result.smr'</li><li>'cDC_smr17_result.smr'</li><li>'cDC_smr18_result.smr'</li><li>'cDC_smr19_result.smr'</li><li>'cDC_smr2_result.smr'</li><li>'cDC_smr20_result.smr'</li><li>'cDC_smr3_result.smr'</li><li>'cDC_smr5_result.smr'</li><li>'cDC_smr6_result.smr'</li><li>'cDC_smr7_result.smr'</li><li>'cDC_smr9_result.smr'</li></ol>\n"
      ],
      "text/latex": [
       "\\begin{enumerate*}\n",
       "\\item 'cDC\\_smr11\\_result.smr'\n",
       "\\item 'cDC\\_smr12\\_result.smr'\n",
       "\\item 'cDC\\_smr14\\_result.smr'\n",
       "\\item 'cDC\\_smr15\\_result.smr'\n",
       "\\item 'cDC\\_smr16\\_result.smr'\n",
       "\\item 'cDC\\_smr17\\_result.smr'\n",
       "\\item 'cDC\\_smr18\\_result.smr'\n",
       "\\item 'cDC\\_smr19\\_result.smr'\n",
       "\\item 'cDC\\_smr2\\_result.smr'\n",
       "\\item 'cDC\\_smr20\\_result.smr'\n",
       "\\item 'cDC\\_smr3\\_result.smr'\n",
       "\\item 'cDC\\_smr5\\_result.smr'\n",
       "\\item 'cDC\\_smr6\\_result.smr'\n",
       "\\item 'cDC\\_smr7\\_result.smr'\n",
       "\\item 'cDC\\_smr9\\_result.smr'\n",
       "\\end{enumerate*}\n"
      ],
      "text/markdown": [
       "1. 'cDC_smr11_result.smr'\n",
       "2. 'cDC_smr12_result.smr'\n",
       "3. 'cDC_smr14_result.smr'\n",
       "4. 'cDC_smr15_result.smr'\n",
       "5. 'cDC_smr16_result.smr'\n",
       "6. 'cDC_smr17_result.smr'\n",
       "7. 'cDC_smr18_result.smr'\n",
       "8. 'cDC_smr19_result.smr'\n",
       "9. 'cDC_smr2_result.smr'\n",
       "10. 'cDC_smr20_result.smr'\n",
       "11. 'cDC_smr3_result.smr'\n",
       "12. 'cDC_smr5_result.smr'\n",
       "13. 'cDC_smr6_result.smr'\n",
       "14. 'cDC_smr7_result.smr'\n",
       "15. 'cDC_smr9_result.smr'\n",
       "\n",
       "\n"
      ],
      "text/plain": [
       " [1] \"cDC_smr11_result.smr\" \"cDC_smr12_result.smr\" \"cDC_smr14_result.smr\"\n",
       " [4] \"cDC_smr15_result.smr\" \"cDC_smr16_result.smr\" \"cDC_smr17_result.smr\"\n",
       " [7] \"cDC_smr18_result.smr\" \"cDC_smr19_result.smr\" \"cDC_smr2_result.smr\" \n",
       "[10] \"cDC_smr20_result.smr\" \"cDC_smr3_result.smr\"  \"cDC_smr5_result.smr\" \n",
       "[13] \"cDC_smr6_result.smr\"  \"cDC_smr7_result.smr\"  \"cDC_smr9_result.smr\" "
      ]
     },
     "metadata": {},
     "output_type": "display_data"
    },
    {
     "name": "stdout",
     "output_type": "stream",
     "text": [
      "[1] 1 3 3\n",
      "[1] 2 4 7\n",
      "[1]  3  4 11\n",
      "[1]  4  1 12\n",
      "[1]  5  2 14\n",
      "[1]  6  3 17\n",
      "[1]  7  2 19\n",
      "[1]  8  4 23\n",
      "[1]  9  1 24\n",
      "[1] 10  1 25\n",
      "[1] 11  2 27\n",
      "[1] 12  1 28\n",
      "[1] 13  2 30\n",
      "[1] 14  2 32\n",
      "[1] 15  1 33\n"
     ]
    }
   ],
   "source": [
    "SMR<-list.files(\"/data_alluser/CXY/keti/singlecell_eqtl/eqtl/result/SMR/smr_result/cDC\",pattern=\"*.smr\")\n",
    "SMR\n",
    "setwd(\"/data_alluser/CXY/keti/singlecell_eqtl/eqtl/result/SMR/smr_result/cDC\")\n",
    "merge<-list()\n",
    "mer<-list()\n",
    "for(i in 1:length(SMR)){\n",
    "\n",
    "  smr<-read.csv(file=SMR[i],header=TRUE,sep=\"\\t\")\n",
    "  me<-rbind(merge,smr)\n",
    "  mer<-rbind(mer,me)\n",
    "  print(c(i,dim(smr)[1],dim(mer)[1]))\n",
    " }\n",
    "gwas_smr_Bonferroni <- p.adjust(mer$p_SMR,method = \"bonferroni\")\n",
    "jiaozheng<-cbind(mer,gwas_smr_Bonferroni)"
   ]
  },
  {
   "cell_type": "code",
   "execution_count": 24,
   "id": "1240703b",
   "metadata": {},
   "outputs": [
    {
     "name": "stderr",
     "output_type": "stream",
     "text": [
      "Warning message in cbind(parts$left, ellip_h, parts$right, deparse.level = 0L):\n",
      "“number of rows of result is not a multiple of vector length (arg 2)”\n",
      "Warning message in cbind(parts$left, ellip_h, parts$right, deparse.level = 0L):\n",
      "“number of rows of result is not a multiple of vector length (arg 2)”\n",
      "Warning message in cbind(parts$left, ellip_h, parts$right, deparse.level = 0L):\n",
      "“number of rows of result is not a multiple of vector length (arg 2)”\n",
      "Warning message in cbind(parts$left, ellip_h, parts$right, deparse.level = 0L):\n",
      "“number of rows of result is not a multiple of vector length (arg 2)”\n"
     ]
    },
    {
     "data": {
      "text/html": [
       "<table class=\"dataframe\">\n",
       "<caption>A data.frame: 0 × 22</caption>\n",
       "<thead>\n",
       "\t<tr><th scope=col>probeID</th><th scope=col>ProbeChr</th><th scope=col>Gene</th><th scope=col>Probe_bp</th><th scope=col>topSNP</th><th scope=col>topSNP_chr</th><th scope=col>topSNP_bp</th><th scope=col>A1</th><th scope=col>A2</th><th scope=col>Freq</th><th scope=col>⋯</th><th scope=col>p_GWAS</th><th scope=col>b_eQTL</th><th scope=col>se_eQTL</th><th scope=col>p_eQTL</th><th scope=col>b_SMR</th><th scope=col>se_SMR</th><th scope=col>p_SMR</th><th scope=col>p_HEIDI</th><th scope=col>nsnp_HEIDI</th><th scope=col>gwas_smr_Bonferroni</th></tr>\n",
       "\t<tr><th scope=col>&lt;chr&gt;</th><th scope=col>&lt;int&gt;</th><th scope=col>&lt;chr&gt;</th><th scope=col>&lt;int&gt;</th><th scope=col>&lt;chr&gt;</th><th scope=col>&lt;int&gt;</th><th scope=col>&lt;int&gt;</th><th scope=col>&lt;chr&gt;</th><th scope=col>&lt;chr&gt;</th><th scope=col>&lt;dbl&gt;</th><th scope=col>⋯</th><th scope=col>&lt;dbl&gt;</th><th scope=col>&lt;dbl&gt;</th><th scope=col>&lt;dbl&gt;</th><th scope=col>&lt;dbl&gt;</th><th scope=col>&lt;dbl&gt;</th><th scope=col>&lt;dbl&gt;</th><th scope=col>&lt;dbl&gt;</th><th scope=col>&lt;dbl&gt;</th><th scope=col>&lt;int&gt;</th><th scope=col>&lt;dbl&gt;</th></tr>\n",
       "</thead>\n",
       "<tbody>\n",
       "</tbody>\n",
       "</table>\n"
      ],
      "text/latex": [
       "A data.frame: 0 × 22\n",
       "\\begin{tabular}{lllllllllllllllllllll}\n",
       " probeID & ProbeChr & Gene & Probe\\_bp & topSNP & topSNP\\_chr & topSNP\\_bp & A1 & A2 & Freq & ⋯ & p\\_GWAS & b\\_eQTL & se\\_eQTL & p\\_eQTL & b\\_SMR & se\\_SMR & p\\_SMR & p\\_HEIDI & nsnp\\_HEIDI & gwas\\_smr\\_Bonferroni\\\\\n",
       " <chr> & <int> & <chr> & <int> & <chr> & <int> & <int> & <chr> & <chr> & <dbl> & ⋯ & <dbl> & <dbl> & <dbl> & <dbl> & <dbl> & <dbl> & <dbl> & <dbl> & <int> & <dbl>\\\\\n",
       "\\hline\n",
       "\\end{tabular}\n"
      ],
      "text/markdown": [
       "\n",
       "A data.frame: 0 × 22\n",
       "\n",
       "| probeID &lt;chr&gt; | ProbeChr &lt;int&gt; | Gene &lt;chr&gt; | Probe_bp &lt;int&gt; | topSNP &lt;chr&gt; | topSNP_chr &lt;int&gt; | topSNP_bp &lt;int&gt; | A1 &lt;chr&gt; | A2 &lt;chr&gt; | Freq &lt;dbl&gt; | ⋯ ⋯ | p_GWAS &lt;dbl&gt; | b_eQTL &lt;dbl&gt; | se_eQTL &lt;dbl&gt; | p_eQTL &lt;dbl&gt; | b_SMR &lt;dbl&gt; | se_SMR &lt;dbl&gt; | p_SMR &lt;dbl&gt; | p_HEIDI &lt;dbl&gt; | nsnp_HEIDI &lt;int&gt; | gwas_smr_Bonferroni &lt;dbl&gt; |\n",
       "|---|---|---|---|---|---|---|---|---|---|---|---|---|---|---|---|---|---|---|---|---|\n",
       "\n"
      ],
      "text/plain": [
       "     probeID ProbeChr Gene Probe_bp topSNP topSNP_chr topSNP_bp A1 A2 Freq ⋯\n",
       "     p_GWAS b_eQTL se_eQTL p_eQTL b_SMR se_SMR p_SMR p_HEIDI nsnp_HEIDI\n",
       "     gwas_smr_Bonferroni"
      ]
     },
     "metadata": {},
     "output_type": "display_data"
    },
    {
     "data": {
      "text/html": [
       "<style>\n",
       ".list-inline {list-style: none; margin:0; padding: 0}\n",
       ".list-inline>li {display: inline-block}\n",
       ".list-inline>li:not(:last-child)::after {content: \"\\00b7\"; padding: 0 .5ex}\n",
       "</style>\n",
       "<ol class=list-inline><li>0</li><li>22</li></ol>\n"
      ],
      "text/latex": [
       "\\begin{enumerate*}\n",
       "\\item 0\n",
       "\\item 22\n",
       "\\end{enumerate*}\n"
      ],
      "text/markdown": [
       "1. 0\n",
       "2. 22\n",
       "\n",
       "\n"
      ],
      "text/plain": [
       "[1]  0 22"
      ]
     },
     "metadata": {},
     "output_type": "display_data"
    }
   ],
   "source": [
    "a<-jiaozheng[which(jiaozheng$gwas_smr_Bonferroni<0.05),]\n",
    "a1<-a[which(a$p_HEIDI>0.05),]\n",
    "a\n",
    "dim(a)"
   ]
  },
  {
   "cell_type": "markdown",
   "id": "4ba5a4a0",
   "metadata": {},
   "source": [
    "# Monocyte"
   ]
  },
  {
   "cell_type": "code",
   "execution_count": 25,
   "id": "3faac03c",
   "metadata": {},
   "outputs": [
    {
     "data": {
      "text/html": [
       "<style>\n",
       ".list-inline {list-style: none; margin:0; padding: 0}\n",
       ".list-inline>li {display: inline-block}\n",
       ".list-inline>li:not(:last-child)::after {content: \"\\00b7\"; padding: 0 .5ex}\n",
       "</style>\n",
       "<ol class=list-inline><li>'Monocyte_smr1_result.smr'</li><li>'Monocyte_smr10_result.smr'</li><li>'Monocyte_smr11_result.smr'</li><li>'Monocyte_smr12_result.smr'</li><li>'Monocyte_smr13_result.smr'</li><li>'Monocyte_smr14_result.smr'</li><li>'Monocyte_smr15_result.smr'</li><li>'Monocyte_smr16_result.smr'</li><li>'Monocyte_smr17_result.smr'</li><li>'Monocyte_smr18_result.smr'</li><li>'Monocyte_smr19_result.smr'</li><li>'Monocyte_smr2_result.smr'</li><li>'Monocyte_smr20_result.smr'</li><li>'Monocyte_smr21_result.smr'</li><li>'Monocyte_smr22_result.smr'</li><li>'Monocyte_smr3_result.smr'</li><li>'Monocyte_smr4_result.smr'</li><li>'Monocyte_smr5_result.smr'</li><li>'Monocyte_smr6_result.smr'</li><li>'Monocyte_smr7_result.smr'</li><li>'Monocyte_smr8_result.smr'</li><li>'Monocyte_smr9_result.smr'</li></ol>\n"
      ],
      "text/latex": [
       "\\begin{enumerate*}\n",
       "\\item 'Monocyte\\_smr1\\_result.smr'\n",
       "\\item 'Monocyte\\_smr10\\_result.smr'\n",
       "\\item 'Monocyte\\_smr11\\_result.smr'\n",
       "\\item 'Monocyte\\_smr12\\_result.smr'\n",
       "\\item 'Monocyte\\_smr13\\_result.smr'\n",
       "\\item 'Monocyte\\_smr14\\_result.smr'\n",
       "\\item 'Monocyte\\_smr15\\_result.smr'\n",
       "\\item 'Monocyte\\_smr16\\_result.smr'\n",
       "\\item 'Monocyte\\_smr17\\_result.smr'\n",
       "\\item 'Monocyte\\_smr18\\_result.smr'\n",
       "\\item 'Monocyte\\_smr19\\_result.smr'\n",
       "\\item 'Monocyte\\_smr2\\_result.smr'\n",
       "\\item 'Monocyte\\_smr20\\_result.smr'\n",
       "\\item 'Monocyte\\_smr21\\_result.smr'\n",
       "\\item 'Monocyte\\_smr22\\_result.smr'\n",
       "\\item 'Monocyte\\_smr3\\_result.smr'\n",
       "\\item 'Monocyte\\_smr4\\_result.smr'\n",
       "\\item 'Monocyte\\_smr5\\_result.smr'\n",
       "\\item 'Monocyte\\_smr6\\_result.smr'\n",
       "\\item 'Monocyte\\_smr7\\_result.smr'\n",
       "\\item 'Monocyte\\_smr8\\_result.smr'\n",
       "\\item 'Monocyte\\_smr9\\_result.smr'\n",
       "\\end{enumerate*}\n"
      ],
      "text/markdown": [
       "1. 'Monocyte_smr1_result.smr'\n",
       "2. 'Monocyte_smr10_result.smr'\n",
       "3. 'Monocyte_smr11_result.smr'\n",
       "4. 'Monocyte_smr12_result.smr'\n",
       "5. 'Monocyte_smr13_result.smr'\n",
       "6. 'Monocyte_smr14_result.smr'\n",
       "7. 'Monocyte_smr15_result.smr'\n",
       "8. 'Monocyte_smr16_result.smr'\n",
       "9. 'Monocyte_smr17_result.smr'\n",
       "10. 'Monocyte_smr18_result.smr'\n",
       "11. 'Monocyte_smr19_result.smr'\n",
       "12. 'Monocyte_smr2_result.smr'\n",
       "13. 'Monocyte_smr20_result.smr'\n",
       "14. 'Monocyte_smr21_result.smr'\n",
       "15. 'Monocyte_smr22_result.smr'\n",
       "16. 'Monocyte_smr3_result.smr'\n",
       "17. 'Monocyte_smr4_result.smr'\n",
       "18. 'Monocyte_smr5_result.smr'\n",
       "19. 'Monocyte_smr6_result.smr'\n",
       "20. 'Monocyte_smr7_result.smr'\n",
       "21. 'Monocyte_smr8_result.smr'\n",
       "22. 'Monocyte_smr9_result.smr'\n",
       "\n",
       "\n"
      ],
      "text/plain": [
       " [1] \"Monocyte_smr1_result.smr\"  \"Monocyte_smr10_result.smr\"\n",
       " [3] \"Monocyte_smr11_result.smr\" \"Monocyte_smr12_result.smr\"\n",
       " [5] \"Monocyte_smr13_result.smr\" \"Monocyte_smr14_result.smr\"\n",
       " [7] \"Monocyte_smr15_result.smr\" \"Monocyte_smr16_result.smr\"\n",
       " [9] \"Monocyte_smr17_result.smr\" \"Monocyte_smr18_result.smr\"\n",
       "[11] \"Monocyte_smr19_result.smr\" \"Monocyte_smr2_result.smr\" \n",
       "[13] \"Monocyte_smr20_result.smr\" \"Monocyte_smr21_result.smr\"\n",
       "[15] \"Monocyte_smr22_result.smr\" \"Monocyte_smr3_result.smr\" \n",
       "[17] \"Monocyte_smr4_result.smr\"  \"Monocyte_smr5_result.smr\" \n",
       "[19] \"Monocyte_smr6_result.smr\"  \"Monocyte_smr7_result.smr\" \n",
       "[21] \"Monocyte_smr8_result.smr\"  \"Monocyte_smr9_result.smr\" "
      ]
     },
     "metadata": {},
     "output_type": "display_data"
    },
    {
     "name": "stdout",
     "output_type": "stream",
     "text": [
      "[1]  1 22 22\n",
      "[1]  2  9 31\n",
      "[1]  3  8 39\n",
      "[1]  4 10 49\n",
      "[1]  5  1 50\n",
      "[1]  6  4 54\n",
      "[1]  7  3 57\n",
      "[1]  8 12 69\n",
      "[1]  9  8 77\n",
      "[1] 10  3 80\n",
      "[1] 11  8 88\n",
      "[1] 12  5 93\n",
      "[1] 13  6 99\n",
      "[1]  14   1 100\n",
      "[1]  15   5 105\n",
      "[1]  16   7 112\n",
      "[1]  17   3 115\n",
      "[1]  18   8 123\n",
      "[1]  19   7 130\n",
      "[1]  20  16 146\n",
      "[1]  21   3 149\n",
      "[1]  22   6 155\n"
     ]
    }
   ],
   "source": [
    "SMR<-list.files(\"/data_alluser/CXY/keti/singlecell_eqtl/eqtl/result/SMR/smr_result/Monocyte\",pattern=\"*.smr\")\n",
    "SMR\n",
    "setwd(\"/data_alluser/CXY/keti/singlecell_eqtl/eqtl/result/SMR/smr_result/Monocyte\")\n",
    "merge<-list()\n",
    "mer<-list()\n",
    "for(i in 1:length(SMR)){\n",
    "\n",
    "  smr<-read.csv(file=SMR[i],header=TRUE,sep=\"\\t\")\n",
    "  me<-rbind(merge,smr)\n",
    "  mer<-rbind(mer,me)\n",
    "  print(c(i,dim(smr)[1],dim(mer)[1]))\n",
    " }\n",
    "gwas_smr_Bonferroni <- p.adjust(mer$p_SMR,method = \"bonferroni\")\n",
    "jiaozheng<-cbind(mer,gwas_smr_Bonferroni)"
   ]
  },
  {
   "cell_type": "code",
   "execution_count": 26,
   "id": "a38f2946",
   "metadata": {},
   "outputs": [
    {
     "name": "stderr",
     "output_type": "stream",
     "text": [
      "Warning message in cbind(parts$left, ellip_h, parts$right, deparse.level = 0L):\n",
      "“number of rows of result is not a multiple of vector length (arg 2)”\n",
      "Warning message in cbind(parts$left, ellip_h, parts$right, deparse.level = 0L):\n",
      "“number of rows of result is not a multiple of vector length (arg 2)”\n",
      "Warning message in cbind(parts$left, ellip_h, parts$right, deparse.level = 0L):\n",
      "“number of rows of result is not a multiple of vector length (arg 2)”\n",
      "Warning message in cbind(parts$left, ellip_h, parts$right, deparse.level = 0L):\n",
      "“number of rows of result is not a multiple of vector length (arg 2)”\n"
     ]
    },
    {
     "data": {
      "text/html": [
       "<table class=\"dataframe\">\n",
       "<caption>A data.frame: 0 × 22</caption>\n",
       "<thead>\n",
       "\t<tr><th scope=col>probeID</th><th scope=col>ProbeChr</th><th scope=col>Gene</th><th scope=col>Probe_bp</th><th scope=col>topSNP</th><th scope=col>topSNP_chr</th><th scope=col>topSNP_bp</th><th scope=col>A1</th><th scope=col>A2</th><th scope=col>Freq</th><th scope=col>⋯</th><th scope=col>p_GWAS</th><th scope=col>b_eQTL</th><th scope=col>se_eQTL</th><th scope=col>p_eQTL</th><th scope=col>b_SMR</th><th scope=col>se_SMR</th><th scope=col>p_SMR</th><th scope=col>p_HEIDI</th><th scope=col>nsnp_HEIDI</th><th scope=col>gwas_smr_Bonferroni</th></tr>\n",
       "\t<tr><th scope=col>&lt;chr&gt;</th><th scope=col>&lt;int&gt;</th><th scope=col>&lt;chr&gt;</th><th scope=col>&lt;int&gt;</th><th scope=col>&lt;chr&gt;</th><th scope=col>&lt;int&gt;</th><th scope=col>&lt;int&gt;</th><th scope=col>&lt;chr&gt;</th><th scope=col>&lt;chr&gt;</th><th scope=col>&lt;dbl&gt;</th><th scope=col>⋯</th><th scope=col>&lt;dbl&gt;</th><th scope=col>&lt;dbl&gt;</th><th scope=col>&lt;dbl&gt;</th><th scope=col>&lt;dbl&gt;</th><th scope=col>&lt;dbl&gt;</th><th scope=col>&lt;dbl&gt;</th><th scope=col>&lt;dbl&gt;</th><th scope=col>&lt;dbl&gt;</th><th scope=col>&lt;int&gt;</th><th scope=col>&lt;dbl&gt;</th></tr>\n",
       "</thead>\n",
       "<tbody>\n",
       "</tbody>\n",
       "</table>\n"
      ],
      "text/latex": [
       "A data.frame: 0 × 22\n",
       "\\begin{tabular}{lllllllllllllllllllll}\n",
       " probeID & ProbeChr & Gene & Probe\\_bp & topSNP & topSNP\\_chr & topSNP\\_bp & A1 & A2 & Freq & ⋯ & p\\_GWAS & b\\_eQTL & se\\_eQTL & p\\_eQTL & b\\_SMR & se\\_SMR & p\\_SMR & p\\_HEIDI & nsnp\\_HEIDI & gwas\\_smr\\_Bonferroni\\\\\n",
       " <chr> & <int> & <chr> & <int> & <chr> & <int> & <int> & <chr> & <chr> & <dbl> & ⋯ & <dbl> & <dbl> & <dbl> & <dbl> & <dbl> & <dbl> & <dbl> & <dbl> & <int> & <dbl>\\\\\n",
       "\\hline\n",
       "\\end{tabular}\n"
      ],
      "text/markdown": [
       "\n",
       "A data.frame: 0 × 22\n",
       "\n",
       "| probeID &lt;chr&gt; | ProbeChr &lt;int&gt; | Gene &lt;chr&gt; | Probe_bp &lt;int&gt; | topSNP &lt;chr&gt; | topSNP_chr &lt;int&gt; | topSNP_bp &lt;int&gt; | A1 &lt;chr&gt; | A2 &lt;chr&gt; | Freq &lt;dbl&gt; | ⋯ ⋯ | p_GWAS &lt;dbl&gt; | b_eQTL &lt;dbl&gt; | se_eQTL &lt;dbl&gt; | p_eQTL &lt;dbl&gt; | b_SMR &lt;dbl&gt; | se_SMR &lt;dbl&gt; | p_SMR &lt;dbl&gt; | p_HEIDI &lt;dbl&gt; | nsnp_HEIDI &lt;int&gt; | gwas_smr_Bonferroni &lt;dbl&gt; |\n",
       "|---|---|---|---|---|---|---|---|---|---|---|---|---|---|---|---|---|---|---|---|---|\n",
       "\n"
      ],
      "text/plain": [
       "     probeID ProbeChr Gene Probe_bp topSNP topSNP_chr topSNP_bp A1 A2 Freq ⋯\n",
       "     p_GWAS b_eQTL se_eQTL p_eQTL b_SMR se_SMR p_SMR p_HEIDI nsnp_HEIDI\n",
       "     gwas_smr_Bonferroni"
      ]
     },
     "metadata": {},
     "output_type": "display_data"
    },
    {
     "data": {
      "text/html": [
       "<style>\n",
       ".list-inline {list-style: none; margin:0; padding: 0}\n",
       ".list-inline>li {display: inline-block}\n",
       ".list-inline>li:not(:last-child)::after {content: \"\\00b7\"; padding: 0 .5ex}\n",
       "</style>\n",
       "<ol class=list-inline><li>0</li><li>22</li></ol>\n"
      ],
      "text/latex": [
       "\\begin{enumerate*}\n",
       "\\item 0\n",
       "\\item 22\n",
       "\\end{enumerate*}\n"
      ],
      "text/markdown": [
       "1. 0\n",
       "2. 22\n",
       "\n",
       "\n"
      ],
      "text/plain": [
       "[1]  0 22"
      ]
     },
     "metadata": {},
     "output_type": "display_data"
    }
   ],
   "source": [
    "a<-jiaozheng[which(jiaozheng$gwas_smr_Bonferroni<0.05),]\n",
    "a1<-a[which(a$p_HEIDI>0.05),]\n",
    "a\n",
    "dim(a)"
   ]
  },
  {
   "cell_type": "markdown",
   "id": "b34233db",
   "metadata": {},
   "source": [
    "# NK"
   ]
  },
  {
   "cell_type": "code",
   "execution_count": 27,
   "id": "e16bc3ca",
   "metadata": {},
   "outputs": [
    {
     "data": {
      "text/html": [
       "<style>\n",
       ".list-inline {list-style: none; margin:0; padding: 0}\n",
       ".list-inline>li {display: inline-block}\n",
       ".list-inline>li:not(:last-child)::after {content: \"\\00b7\"; padding: 0 .5ex}\n",
       "</style>\n",
       "<ol class=list-inline><li>'NK_smr1_result.smr'</li><li>'NK_smr10_result.smr'</li><li>'NK_smr11_result.smr'</li><li>'NK_smr12_result.smr'</li><li>'NK_smr13_result.smr'</li><li>'NK_smr14_result.smr'</li><li>'NK_smr15_result.smr'</li><li>'NK_smr16_result.smr'</li><li>'NK_smr17_result.smr'</li><li>'NK_smr18_result.smr'</li><li>'NK_smr19_result.smr'</li><li>'NK_smr20_result.smr'</li><li>'NK_smr21_result.smr'</li><li>'NK_smr22_result.smr'</li><li>'NK_smr3_result.smr'</li><li>'NK_smr5_result.smr'</li><li>'NK_smr6_result.smr'</li><li>'NK_smr9_result.smr'</li></ol>\n"
      ],
      "text/latex": [
       "\\begin{enumerate*}\n",
       "\\item 'NK\\_smr1\\_result.smr'\n",
       "\\item 'NK\\_smr10\\_result.smr'\n",
       "\\item 'NK\\_smr11\\_result.smr'\n",
       "\\item 'NK\\_smr12\\_result.smr'\n",
       "\\item 'NK\\_smr13\\_result.smr'\n",
       "\\item 'NK\\_smr14\\_result.smr'\n",
       "\\item 'NK\\_smr15\\_result.smr'\n",
       "\\item 'NK\\_smr16\\_result.smr'\n",
       "\\item 'NK\\_smr17\\_result.smr'\n",
       "\\item 'NK\\_smr18\\_result.smr'\n",
       "\\item 'NK\\_smr19\\_result.smr'\n",
       "\\item 'NK\\_smr20\\_result.smr'\n",
       "\\item 'NK\\_smr21\\_result.smr'\n",
       "\\item 'NK\\_smr22\\_result.smr'\n",
       "\\item 'NK\\_smr3\\_result.smr'\n",
       "\\item 'NK\\_smr5\\_result.smr'\n",
       "\\item 'NK\\_smr6\\_result.smr'\n",
       "\\item 'NK\\_smr9\\_result.smr'\n",
       "\\end{enumerate*}\n"
      ],
      "text/markdown": [
       "1. 'NK_smr1_result.smr'\n",
       "2. 'NK_smr10_result.smr'\n",
       "3. 'NK_smr11_result.smr'\n",
       "4. 'NK_smr12_result.smr'\n",
       "5. 'NK_smr13_result.smr'\n",
       "6. 'NK_smr14_result.smr'\n",
       "7. 'NK_smr15_result.smr'\n",
       "8. 'NK_smr16_result.smr'\n",
       "9. 'NK_smr17_result.smr'\n",
       "10. 'NK_smr18_result.smr'\n",
       "11. 'NK_smr19_result.smr'\n",
       "12. 'NK_smr20_result.smr'\n",
       "13. 'NK_smr21_result.smr'\n",
       "14. 'NK_smr22_result.smr'\n",
       "15. 'NK_smr3_result.smr'\n",
       "16. 'NK_smr5_result.smr'\n",
       "17. 'NK_smr6_result.smr'\n",
       "18. 'NK_smr9_result.smr'\n",
       "\n",
       "\n"
      ],
      "text/plain": [
       " [1] \"NK_smr1_result.smr\"  \"NK_smr10_result.smr\" \"NK_smr11_result.smr\"\n",
       " [4] \"NK_smr12_result.smr\" \"NK_smr13_result.smr\" \"NK_smr14_result.smr\"\n",
       " [7] \"NK_smr15_result.smr\" \"NK_smr16_result.smr\" \"NK_smr17_result.smr\"\n",
       "[10] \"NK_smr18_result.smr\" \"NK_smr19_result.smr\" \"NK_smr20_result.smr\"\n",
       "[13] \"NK_smr21_result.smr\" \"NK_smr22_result.smr\" \"NK_smr3_result.smr\" \n",
       "[16] \"NK_smr5_result.smr\"  \"NK_smr6_result.smr\"  \"NK_smr9_result.smr\" "
      ]
     },
     "metadata": {},
     "output_type": "display_data"
    },
    {
     "name": "stdout",
     "output_type": "stream",
     "text": [
      "[1] 1 7 7\n",
      "[1] 2 1 8\n",
      "[1]  3  7 15\n",
      "[1]  4  6 21\n",
      "[1]  5  1 22\n",
      "[1]  6  7 29\n",
      "[1]  7  4 33\n",
      "[1]  8  4 37\n",
      "[1]  9  3 40\n",
      "[1] 10  1 41\n",
      "[1] 11  6 47\n",
      "[1] 12  1 48\n",
      "[1] 13  5 53\n",
      "[1] 14  3 56\n",
      "[1] 15  8 64\n",
      "[1] 16  2 66\n",
      "[1] 17  2 68\n",
      "[1] 18  1 69\n"
     ]
    }
   ],
   "source": [
    "SMR<-list.files(\"/data_alluser/CXY/keti/singlecell_eqtl/eqtl/result/SMR/smr_result/NK\",pattern=\"*.smr\")\n",
    "SMR\n",
    "setwd(\"/data_alluser/CXY/keti/singlecell_eqtl/eqtl/result/SMR/smr_result/NK\")\n",
    "merge<-list()\n",
    "mer<-list()\n",
    "for(i in 1:length(SMR)){\n",
    "\n",
    "  smr<-read.csv(file=SMR[i],header=TRUE,sep=\"\\t\")\n",
    "  me<-rbind(merge,smr)\n",
    "  mer<-rbind(mer,me)\n",
    "  print(c(i,dim(smr)[1],dim(mer)[1]))\n",
    " }\n",
    "gwas_smr_Bonferroni <- p.adjust(mer$p_SMR,method = \"bonferroni\")\n",
    "jiaozheng<-cbind(mer,gwas_smr_Bonferroni)"
   ]
  },
  {
   "cell_type": "code",
   "execution_count": 28,
   "id": "08ecf99e",
   "metadata": {},
   "outputs": [
    {
     "name": "stderr",
     "output_type": "stream",
     "text": [
      "Warning message in cbind(parts$left, ellip_h, parts$right, deparse.level = 0L):\n",
      "“number of rows of result is not a multiple of vector length (arg 2)”\n",
      "Warning message in cbind(parts$left, ellip_h, parts$right, deparse.level = 0L):\n",
      "“number of rows of result is not a multiple of vector length (arg 2)”\n",
      "Warning message in cbind(parts$left, ellip_h, parts$right, deparse.level = 0L):\n",
      "“number of rows of result is not a multiple of vector length (arg 2)”\n",
      "Warning message in cbind(parts$left, ellip_h, parts$right, deparse.level = 0L):\n",
      "“number of rows of result is not a multiple of vector length (arg 2)”\n"
     ]
    },
    {
     "data": {
      "text/html": [
       "<table class=\"dataframe\">\n",
       "<caption>A data.frame: 0 × 22</caption>\n",
       "<thead>\n",
       "\t<tr><th scope=col>probeID</th><th scope=col>ProbeChr</th><th scope=col>Gene</th><th scope=col>Probe_bp</th><th scope=col>topSNP</th><th scope=col>topSNP_chr</th><th scope=col>topSNP_bp</th><th scope=col>A1</th><th scope=col>A2</th><th scope=col>Freq</th><th scope=col>⋯</th><th scope=col>p_GWAS</th><th scope=col>b_eQTL</th><th scope=col>se_eQTL</th><th scope=col>p_eQTL</th><th scope=col>b_SMR</th><th scope=col>se_SMR</th><th scope=col>p_SMR</th><th scope=col>p_HEIDI</th><th scope=col>nsnp_HEIDI</th><th scope=col>gwas_smr_Bonferroni</th></tr>\n",
       "\t<tr><th scope=col>&lt;chr&gt;</th><th scope=col>&lt;int&gt;</th><th scope=col>&lt;chr&gt;</th><th scope=col>&lt;int&gt;</th><th scope=col>&lt;chr&gt;</th><th scope=col>&lt;int&gt;</th><th scope=col>&lt;int&gt;</th><th scope=col>&lt;chr&gt;</th><th scope=col>&lt;chr&gt;</th><th scope=col>&lt;dbl&gt;</th><th scope=col>⋯</th><th scope=col>&lt;dbl&gt;</th><th scope=col>&lt;dbl&gt;</th><th scope=col>&lt;dbl&gt;</th><th scope=col>&lt;dbl&gt;</th><th scope=col>&lt;dbl&gt;</th><th scope=col>&lt;dbl&gt;</th><th scope=col>&lt;dbl&gt;</th><th scope=col>&lt;dbl&gt;</th><th scope=col>&lt;int&gt;</th><th scope=col>&lt;dbl&gt;</th></tr>\n",
       "</thead>\n",
       "<tbody>\n",
       "</tbody>\n",
       "</table>\n"
      ],
      "text/latex": [
       "A data.frame: 0 × 22\n",
       "\\begin{tabular}{lllllllllllllllllllll}\n",
       " probeID & ProbeChr & Gene & Probe\\_bp & topSNP & topSNP\\_chr & topSNP\\_bp & A1 & A2 & Freq & ⋯ & p\\_GWAS & b\\_eQTL & se\\_eQTL & p\\_eQTL & b\\_SMR & se\\_SMR & p\\_SMR & p\\_HEIDI & nsnp\\_HEIDI & gwas\\_smr\\_Bonferroni\\\\\n",
       " <chr> & <int> & <chr> & <int> & <chr> & <int> & <int> & <chr> & <chr> & <dbl> & ⋯ & <dbl> & <dbl> & <dbl> & <dbl> & <dbl> & <dbl> & <dbl> & <dbl> & <int> & <dbl>\\\\\n",
       "\\hline\n",
       "\\end{tabular}\n"
      ],
      "text/markdown": [
       "\n",
       "A data.frame: 0 × 22\n",
       "\n",
       "| probeID &lt;chr&gt; | ProbeChr &lt;int&gt; | Gene &lt;chr&gt; | Probe_bp &lt;int&gt; | topSNP &lt;chr&gt; | topSNP_chr &lt;int&gt; | topSNP_bp &lt;int&gt; | A1 &lt;chr&gt; | A2 &lt;chr&gt; | Freq &lt;dbl&gt; | ⋯ ⋯ | p_GWAS &lt;dbl&gt; | b_eQTL &lt;dbl&gt; | se_eQTL &lt;dbl&gt; | p_eQTL &lt;dbl&gt; | b_SMR &lt;dbl&gt; | se_SMR &lt;dbl&gt; | p_SMR &lt;dbl&gt; | p_HEIDI &lt;dbl&gt; | nsnp_HEIDI &lt;int&gt; | gwas_smr_Bonferroni &lt;dbl&gt; |\n",
       "|---|---|---|---|---|---|---|---|---|---|---|---|---|---|---|---|---|---|---|---|---|\n",
       "\n"
      ],
      "text/plain": [
       "     probeID ProbeChr Gene Probe_bp topSNP topSNP_chr topSNP_bp A1 A2 Freq ⋯\n",
       "     p_GWAS b_eQTL se_eQTL p_eQTL b_SMR se_SMR p_SMR p_HEIDI nsnp_HEIDI\n",
       "     gwas_smr_Bonferroni"
      ]
     },
     "metadata": {},
     "output_type": "display_data"
    },
    {
     "data": {
      "text/html": [
       "<style>\n",
       ".list-inline {list-style: none; margin:0; padding: 0}\n",
       ".list-inline>li {display: inline-block}\n",
       ".list-inline>li:not(:last-child)::after {content: \"\\00b7\"; padding: 0 .5ex}\n",
       "</style>\n",
       "<ol class=list-inline><li>0</li><li>22</li></ol>\n"
      ],
      "text/latex": [
       "\\begin{enumerate*}\n",
       "\\item 0\n",
       "\\item 22\n",
       "\\end{enumerate*}\n"
      ],
      "text/markdown": [
       "1. 0\n",
       "2. 22\n",
       "\n",
       "\n"
      ],
      "text/plain": [
       "[1]  0 22"
      ]
     },
     "metadata": {},
     "output_type": "display_data"
    }
   ],
   "source": [
    "a<-jiaozheng[which(jiaozheng$gwas_smr_Bonferroni<0.05),]\n",
    "a1<-a[which(a$p_HEIDI>0.05),]\n",
    "a\n",
    "dim(a)"
   ]
  },
  {
   "cell_type": "markdown",
   "id": "d7929f16",
   "metadata": {},
   "source": [
    "# Platelet"
   ]
  },
  {
   "cell_type": "code",
   "execution_count": 29,
   "id": "df6b2eae",
   "metadata": {},
   "outputs": [
    {
     "data": {
      "text/html": [
       "<style>\n",
       ".list-inline {list-style: none; margin:0; padding: 0}\n",
       ".list-inline>li {display: inline-block}\n",
       ".list-inline>li:not(:last-child)::after {content: \"\\00b7\"; padding: 0 .5ex}\n",
       "</style>\n",
       "<ol class=list-inline><li>'Platelet_smr1_result.smr'</li><li>'Platelet_smr10_result.smr'</li><li>'Platelet_smr11_result.smr'</li><li>'Platelet_smr12_result.smr'</li><li>'Platelet_smr13_result.smr'</li><li>'Platelet_smr14_result.smr'</li><li>'Platelet_smr15_result.smr'</li><li>'Platelet_smr16_result.smr'</li><li>'Platelet_smr17_result.smr'</li><li>'Platelet_smr19_result.smr'</li><li>'Platelet_smr20_result.smr'</li><li>'Platelet_smr21_result.smr'</li><li>'Platelet_smr3_result.smr'</li><li>'Platelet_smr5_result.smr'</li><li>'Platelet_smr6_result.smr'</li><li>'Platelet_smr7_result.smr'</li></ol>\n"
      ],
      "text/latex": [
       "\\begin{enumerate*}\n",
       "\\item 'Platelet\\_smr1\\_result.smr'\n",
       "\\item 'Platelet\\_smr10\\_result.smr'\n",
       "\\item 'Platelet\\_smr11\\_result.smr'\n",
       "\\item 'Platelet\\_smr12\\_result.smr'\n",
       "\\item 'Platelet\\_smr13\\_result.smr'\n",
       "\\item 'Platelet\\_smr14\\_result.smr'\n",
       "\\item 'Platelet\\_smr15\\_result.smr'\n",
       "\\item 'Platelet\\_smr16\\_result.smr'\n",
       "\\item 'Platelet\\_smr17\\_result.smr'\n",
       "\\item 'Platelet\\_smr19\\_result.smr'\n",
       "\\item 'Platelet\\_smr20\\_result.smr'\n",
       "\\item 'Platelet\\_smr21\\_result.smr'\n",
       "\\item 'Platelet\\_smr3\\_result.smr'\n",
       "\\item 'Platelet\\_smr5\\_result.smr'\n",
       "\\item 'Platelet\\_smr6\\_result.smr'\n",
       "\\item 'Platelet\\_smr7\\_result.smr'\n",
       "\\end{enumerate*}\n"
      ],
      "text/markdown": [
       "1. 'Platelet_smr1_result.smr'\n",
       "2. 'Platelet_smr10_result.smr'\n",
       "3. 'Platelet_smr11_result.smr'\n",
       "4. 'Platelet_smr12_result.smr'\n",
       "5. 'Platelet_smr13_result.smr'\n",
       "6. 'Platelet_smr14_result.smr'\n",
       "7. 'Platelet_smr15_result.smr'\n",
       "8. 'Platelet_smr16_result.smr'\n",
       "9. 'Platelet_smr17_result.smr'\n",
       "10. 'Platelet_smr19_result.smr'\n",
       "11. 'Platelet_smr20_result.smr'\n",
       "12. 'Platelet_smr21_result.smr'\n",
       "13. 'Platelet_smr3_result.smr'\n",
       "14. 'Platelet_smr5_result.smr'\n",
       "15. 'Platelet_smr6_result.smr'\n",
       "16. 'Platelet_smr7_result.smr'\n",
       "\n",
       "\n"
      ],
      "text/plain": [
       " [1] \"Platelet_smr1_result.smr\"  \"Platelet_smr10_result.smr\"\n",
       " [3] \"Platelet_smr11_result.smr\" \"Platelet_smr12_result.smr\"\n",
       " [5] \"Platelet_smr13_result.smr\" \"Platelet_smr14_result.smr\"\n",
       " [7] \"Platelet_smr15_result.smr\" \"Platelet_smr16_result.smr\"\n",
       " [9] \"Platelet_smr17_result.smr\" \"Platelet_smr19_result.smr\"\n",
       "[11] \"Platelet_smr20_result.smr\" \"Platelet_smr21_result.smr\"\n",
       "[13] \"Platelet_smr3_result.smr\"  \"Platelet_smr5_result.smr\" \n",
       "[15] \"Platelet_smr6_result.smr\"  \"Platelet_smr7_result.smr\" "
      ]
     },
     "metadata": {},
     "output_type": "display_data"
    },
    {
     "name": "stdout",
     "output_type": "stream",
     "text": [
      "[1] 1 1 1\n",
      "[1] 2 1 2\n",
      "[1] 3 2 4\n",
      "[1] 4 4 8\n",
      "[1]  5  2 10\n",
      "[1]  6  2 12\n",
      "[1]  7  1 13\n",
      "[1]  8  2 15\n",
      "[1]  9  1 16\n",
      "[1] 10  7 23\n",
      "[1] 11  1 24\n",
      "[1] 12  1 25\n",
      "[1] 13  1 26\n",
      "[1] 14  3 29\n",
      "[1] 15  2 31\n",
      "[1] 16  1 32\n"
     ]
    }
   ],
   "source": [
    "SMR<-list.files(\"/data_alluser/CXY/keti/singlecell_eqtl/eqtl/result/SMR/smr_result/Platelet\",pattern=\"*.smr\")\n",
    "SMR\n",
    "setwd(\"/data_alluser/CXY/keti/singlecell_eqtl/eqtl/result/SMR/smr_result/Platelet\")\n",
    "merge<-list()\n",
    "mer<-list()\n",
    "for(i in 1:length(SMR)){\n",
    "\n",
    "  smr<-read.csv(file=SMR[i],header=TRUE,sep=\"\\t\")\n",
    "  me<-rbind(merge,smr)\n",
    "  mer<-rbind(mer,me)\n",
    "  print(c(i,dim(smr)[1],dim(mer)[1]))\n",
    " }\n",
    "gwas_smr_Bonferroni <- p.adjust(mer$p_SMR,method = \"bonferroni\")\n",
    "jiaozheng<-cbind(mer,gwas_smr_Bonferroni)"
   ]
  },
  {
   "cell_type": "code",
   "execution_count": 30,
   "id": "f0be59b3",
   "metadata": {},
   "outputs": [
    {
     "name": "stderr",
     "output_type": "stream",
     "text": [
      "Warning message in cbind(parts$left, ellip_h, parts$right, deparse.level = 0L):\n",
      "“number of rows of result is not a multiple of vector length (arg 2)”\n",
      "Warning message in cbind(parts$left, ellip_h, parts$right, deparse.level = 0L):\n",
      "“number of rows of result is not a multiple of vector length (arg 2)”\n",
      "Warning message in cbind(parts$left, ellip_h, parts$right, deparse.level = 0L):\n",
      "“number of rows of result is not a multiple of vector length (arg 2)”\n",
      "Warning message in cbind(parts$left, ellip_h, parts$right, deparse.level = 0L):\n",
      "“number of rows of result is not a multiple of vector length (arg 2)”\n"
     ]
    },
    {
     "data": {
      "text/html": [
       "<table class=\"dataframe\">\n",
       "<caption>A data.frame: 0 × 22</caption>\n",
       "<thead>\n",
       "\t<tr><th scope=col>probeID</th><th scope=col>ProbeChr</th><th scope=col>Gene</th><th scope=col>Probe_bp</th><th scope=col>topSNP</th><th scope=col>topSNP_chr</th><th scope=col>topSNP_bp</th><th scope=col>A1</th><th scope=col>A2</th><th scope=col>Freq</th><th scope=col>⋯</th><th scope=col>p_GWAS</th><th scope=col>b_eQTL</th><th scope=col>se_eQTL</th><th scope=col>p_eQTL</th><th scope=col>b_SMR</th><th scope=col>se_SMR</th><th scope=col>p_SMR</th><th scope=col>p_HEIDI</th><th scope=col>nsnp_HEIDI</th><th scope=col>gwas_smr_Bonferroni</th></tr>\n",
       "\t<tr><th scope=col>&lt;chr&gt;</th><th scope=col>&lt;int&gt;</th><th scope=col>&lt;chr&gt;</th><th scope=col>&lt;int&gt;</th><th scope=col>&lt;chr&gt;</th><th scope=col>&lt;int&gt;</th><th scope=col>&lt;int&gt;</th><th scope=col>&lt;chr&gt;</th><th scope=col>&lt;chr&gt;</th><th scope=col>&lt;dbl&gt;</th><th scope=col>⋯</th><th scope=col>&lt;dbl&gt;</th><th scope=col>&lt;dbl&gt;</th><th scope=col>&lt;dbl&gt;</th><th scope=col>&lt;dbl&gt;</th><th scope=col>&lt;dbl&gt;</th><th scope=col>&lt;dbl&gt;</th><th scope=col>&lt;dbl&gt;</th><th scope=col>&lt;dbl&gt;</th><th scope=col>&lt;int&gt;</th><th scope=col>&lt;dbl&gt;</th></tr>\n",
       "</thead>\n",
       "<tbody>\n",
       "</tbody>\n",
       "</table>\n"
      ],
      "text/latex": [
       "A data.frame: 0 × 22\n",
       "\\begin{tabular}{lllllllllllllllllllll}\n",
       " probeID & ProbeChr & Gene & Probe\\_bp & topSNP & topSNP\\_chr & topSNP\\_bp & A1 & A2 & Freq & ⋯ & p\\_GWAS & b\\_eQTL & se\\_eQTL & p\\_eQTL & b\\_SMR & se\\_SMR & p\\_SMR & p\\_HEIDI & nsnp\\_HEIDI & gwas\\_smr\\_Bonferroni\\\\\n",
       " <chr> & <int> & <chr> & <int> & <chr> & <int> & <int> & <chr> & <chr> & <dbl> & ⋯ & <dbl> & <dbl> & <dbl> & <dbl> & <dbl> & <dbl> & <dbl> & <dbl> & <int> & <dbl>\\\\\n",
       "\\hline\n",
       "\\end{tabular}\n"
      ],
      "text/markdown": [
       "\n",
       "A data.frame: 0 × 22\n",
       "\n",
       "| probeID &lt;chr&gt; | ProbeChr &lt;int&gt; | Gene &lt;chr&gt; | Probe_bp &lt;int&gt; | topSNP &lt;chr&gt; | topSNP_chr &lt;int&gt; | topSNP_bp &lt;int&gt; | A1 &lt;chr&gt; | A2 &lt;chr&gt; | Freq &lt;dbl&gt; | ⋯ ⋯ | p_GWAS &lt;dbl&gt; | b_eQTL &lt;dbl&gt; | se_eQTL &lt;dbl&gt; | p_eQTL &lt;dbl&gt; | b_SMR &lt;dbl&gt; | se_SMR &lt;dbl&gt; | p_SMR &lt;dbl&gt; | p_HEIDI &lt;dbl&gt; | nsnp_HEIDI &lt;int&gt; | gwas_smr_Bonferroni &lt;dbl&gt; |\n",
       "|---|---|---|---|---|---|---|---|---|---|---|---|---|---|---|---|---|---|---|---|---|\n",
       "\n"
      ],
      "text/plain": [
       "     probeID ProbeChr Gene Probe_bp topSNP topSNP_chr topSNP_bp A1 A2 Freq ⋯\n",
       "     p_GWAS b_eQTL se_eQTL p_eQTL b_SMR se_SMR p_SMR p_HEIDI nsnp_HEIDI\n",
       "     gwas_smr_Bonferroni"
      ]
     },
     "metadata": {},
     "output_type": "display_data"
    },
    {
     "data": {
      "text/html": [
       "<style>\n",
       ".list-inline {list-style: none; margin:0; padding: 0}\n",
       ".list-inline>li {display: inline-block}\n",
       ".list-inline>li:not(:last-child)::after {content: \"\\00b7\"; padding: 0 .5ex}\n",
       "</style>\n",
       "<ol class=list-inline><li>0</li><li>22</li></ol>\n"
      ],
      "text/latex": [
       "\\begin{enumerate*}\n",
       "\\item 0\n",
       "\\item 22\n",
       "\\end{enumerate*}\n"
      ],
      "text/markdown": [
       "1. 0\n",
       "2. 22\n",
       "\n",
       "\n"
      ],
      "text/plain": [
       "[1]  0 22"
      ]
     },
     "metadata": {},
     "output_type": "display_data"
    }
   ],
   "source": [
    "a<-jiaozheng[which(jiaozheng$gwas_smr_Bonferroni<0.05),]\n",
    "a1<-a[which(a$p_HEIDI>0.05),]\n",
    "a\n",
    "dim(a)"
   ]
  },
  {
   "cell_type": "code",
   "execution_count": null,
   "id": "1478f867",
   "metadata": {},
   "outputs": [],
   "source": []
  }
 ],
 "metadata": {
  "kernelspec": {
   "display_name": "R",
   "language": "R",
   "name": "ir"
  },
  "language_info": {
   "codemirror_mode": "r",
   "file_extension": ".r",
   "mimetype": "text/x-r-source",
   "name": "R",
   "pygments_lexer": "r",
   "version": "4.1.0"
  },
  "nbTranslate": {
   "displayLangs": [
    "*"
   ],
   "hotkey": "alt-t",
   "langInMainMenu": true,
   "sourceLang": "en",
   "targetLang": "fr",
   "useGoogleTranslate": true
  },
  "toc": {
   "base_numbering": 1,
   "nav_menu": {},
   "number_sections": true,
   "sideBar": true,
   "skip_h1_title": false,
   "title_cell": "Table of Contents",
   "title_sidebar": "Contents",
   "toc_cell": false,
   "toc_position": {},
   "toc_section_display": true,
   "toc_window_display": false
  }
 },
 "nbformat": 4,
 "nbformat_minor": 5
}
